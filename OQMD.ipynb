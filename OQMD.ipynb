{
 "cells": [
  {
   "cell_type": "markdown",
   "source": [
    "# OPEN QUANTUM MATERIAL DATABASE\n",
    "https://oqmd .org/?\n",
    "\n",
    "API参考\n",
    "https://static.oqmd.org/static/docs/restful.html\n",
    "\n",
    "pip install qmpy_rester\n",
    "https://pypi.org/project/qmpy-rester/"
   ],
   "metadata": {
    "collapsed": false
   },
   "id": "f508894e7a6c041a"
  },
  {
   "cell_type": "markdown",
   "source": [
    "数据库下载：\n",
    "Download\n",
    "We provide the entire OQMD for download below as MySQL database dumps.\n",
    "\n",
    "Note: The MySQL data folder (e.g. \"/var/lib/mysql\" for the system-MySQL on GNU/Linux systems) may occupy around 100GB of additional disk space when the OQMD database is imported\n",
    "\n",
    "OQMD v1.6\n",
    "An incremental with a large number of new structures added to the DB, but no significant changes to the qmpy API. Download the database here: qmdb__v1_6__112023.sql.gz (size: 16.5 GB)\n",
    "https://static.oqmd.org/static/downloads/qmdb__v1_6__112023.sql.gz\n",
    "\n",
    "Database updated on: November, 2023\n",
    "(The qmpy API v1.4 is compatible with this database) The codebase to support it is available on PyPI"
   ],
   "metadata": {
    "collapsed": false
   },
   "id": "801d2e8e5adb3a48"
  },
  {
   "cell_type": "markdown",
   "source": [
    "查询页面\n",
    "https://oqmd.org/api/search\n",
    "查询的网页示例：\n",
    "https://oqmd.org/api/search#apisearchresult"
   ],
   "metadata": {
    "collapsed": false
   },
   "id": "b4fef0261e9867bb"
  },
  {
   "cell_type": "markdown",
   "source": [
    "OQMD API Endpoints"
   ],
   "metadata": {
    "collapsed": false
   },
   "id": "f4428367e896e25a"
  },
  {
   "cell_type": "code",
   "execution_count": 1,
   "outputs": [
    {
     "name": "stdout",
     "output_type": "stream",
     "text": [
      "Your filters are:\n",
      "    filter=element_set=(Fe-Mn),O AND stability<-0.1\n",
      "{'links': {'next': None, 'previous': None, 'base_url': {'href': 'https://oqmd.org/oqmdapi', 'meta': {'_oqmd_version': '1.0'}}}, 'resource': {}, 'data': [{'name': 'MnSO4', 'entry_id': 4439, 'calculation_id': 149984, 'icsd_id': 23839, 'formationenergy_id': 4095111, 'duplicate_entry_id': 4439, 'composition': 'Mn1 O4 S1', 'composition_generic': 'ABC4', 'prototype': 'CrVO4', 'spacegroup': 'Cmcm', 'volume': 142.28, 'ntypes': 3, 'natoms': 12, 'unit_cell': [[-2.628268, -4.017986, 0.0], [-2.628268, 4.017986, 0.0], [0.0, 0.0, -6.736534]], 'sites': ['Mn @ 0 0 0', 'Mn @ 0 0 0.5', 'O @ 0.257 0.743 0.0671', 'O @ 0.234 0.303 0.25', 'O @ 0.697 0.766 0.25', 'O @ 0.257 0.743 0.433', 'O @ 0.743 0.257 0.567', 'O @ 0.303 0.234 0.75', 'O @ 0.766 0.697 0.75', 'O @ 0.743 0.257 0.933', 'S @ 0.356 0.644 0.25', 'S @ 0.644 0.356 0.75'], 'band_gap': 3.84, 'delta_e': -1.97801770495671, 'stability': 0.0, 'fit': 'standard', 'calculation_label': 'static'}, {'name': 'Fe2TeO6', 'entry_id': 4702, 'calculation_id': 1230692, 'icsd_id': 24795, 'formationenergy_id': 4786395, 'duplicate_entry_id': 4702, 'composition': 'Fe2 O6 Te1', 'composition_generic': 'AB2C6', 'prototype': 'ZnSb2O6', 'spacegroup': 'P42/mnm', 'volume': 193.969, 'ntypes': 3, 'natoms': 18, 'unit_cell': [[4.61047, 0.0, 0.0], [0.0, 4.61047, 0.0], [0.0, 0.0, 9.125205]], 'sites': ['Fe @ 0.5 0.5 0.165', 'Fe @ 0 0 0.335', 'Fe @ 0 0 0.665', 'Fe @ 0.5 0.5 0.835', 'O @ 0.298 0.298 0', 'O @ 0.702 0.702 0', 'O @ 0.807 0.193 0.162', 'O @ 0.193 0.807 0.162', 'O @ 0.307 0.307 0.338', 'O @ 0.693 0.693 0.338', 'O @ 0.798 0.202 0.5', 'O @ 0.202 0.798 0.5', 'O @ 0.307 0.307 0.662', 'O @ 0.693 0.693 0.662', 'O @ 0.807 0.193 0.838', 'O @ 0.193 0.807 0.838', 'Te @ 0 0 0', 'Te @ 0.5 0.5 0.5'], 'band_gap': 1.225, 'delta_e': -1.53283190782604, 'stability': 0.0, 'fit': 'standard', 'calculation_label': 'static'}, {'name': 'MnRe2O8', 'entry_id': 646635, 'calculation_id': 1261614, 'icsd_id': 51014, 'formationenergy_id': 4802295, 'duplicate_entry_id': 646635, 'composition': 'Mn1 O8 Re2', 'composition_generic': 'AB2C8', 'prototype': None, 'spacegroup': 'P-1', 'volume': 175.983, 'ntypes': 3, 'natoms': 11, 'unit_cell': [[5.805579, -0.000733, 0.000728], [-2.903425, 5.028514, 0.000254], [0.000759, 0.000744, 6.0286]], 'sites': ['Mn @ 0 0 0', 'O @ 0.66 0.791 0.2', 'O @ 0.209 0.869 0.2', 'O @ 0.131 0.34 0.2', 'O @ 0.667 0.333 0.418', 'O @ 0.333 0.667 0.582', 'O @ 0.869 0.66 0.8', 'O @ 0.791 0.131 0.8', 'O @ 0.34 0.209 0.8', 'Re @ 0.333 0.667 0.295', 'Re @ 0.667 0.333 0.705'], 'band_gap': 2.825, 'delta_e': -1.99726956993108, 'stability': 0.0, 'fit': 'standard', 'calculation_label': 'static'}, {'name': 'AcFeO3', 'entry_id': 681998, 'calculation_id': 1334563, 'icsd_id': None, 'formationenergy_id': 4852695, 'duplicate_entry_id': 681998, 'composition': 'Ac1 Fe1 O3', 'composition_generic': 'ABC3', 'prototype': 'OrthoPerovskite_GdFeO3', 'spacegroup': 'Pnma', 'volume': 253.744, 'ntypes': 3, 'natoms': 20, 'unit_cell': [[5.655006, 0.0, 0.0], [0.0, 5.62988, 0.0], [0.0, 0.0, 7.970083]], 'sites': ['Ac @ 0.997 0.0174 0.25', 'Ac @ 0.503 0.517 0.25', 'Ac @ 0.497 0.483 0.75', 'Ac @ 0.00262 0.983 0.75', 'Fe @ 0.5 0 0', 'Fe @ 0 0.5 0', 'Fe @ 0.5 0 0.5', 'Fe @ 0 0.5 0.5', 'O @ 0.727 0.273 0.0295', 'O @ 0.773 0.773 0.0295', 'O @ 0.0564 0.494 0.25', 'O @ 0.444 0.994 0.25', 'O @ 0.727 0.273 0.47', 'O @ 0.773 0.773 0.47', 'O @ 0.227 0.227 0.53', 'O @ 0.273 0.727 0.53', 'O @ 0.556 0.00561 0.75', 'O @ 0.944 0.506 0.75', 'O @ 0.227 0.227 0.97', 'O @ 0.273 0.727 0.97'], 'band_gap': 0.906, 'delta_e': -2.7308921317101, 'stability': 0.0, 'fit': 'standard', 'calculation_label': 'static'}, {'name': 'AcMnO3', 'entry_id': 682048, 'calculation_id': 1334637, 'icsd_id': None, 'formationenergy_id': 4852854, 'duplicate_entry_id': 682048, 'composition': 'Ac1 Mn1 O3', 'composition_generic': 'ABC3', 'prototype': 'OrthoPerovskite_GdFeO3', 'spacegroup': 'Pnma', 'volume': 252.234, 'ntypes': 3, 'natoms': 20, 'unit_cell': [[5.655166, 0.0, 0.0], [0.0, 5.61209, 0.0], [0.0, 0.0, 7.947556]], 'sites': ['Ac @ 0.997 0.0107 0.25', 'Ac @ 0.503 0.511 0.25', 'Ac @ 0.497 0.489 0.75', 'Ac @ 0.00257 0.989 0.75', 'Mn @ 0.5 0 0', 'Mn @ 0 0.5 0', 'Mn @ 0.5 0 0.5', 'Mn @ 0 0.5 0.5', 'O @ 0.736 0.264 0.0268', 'O @ 0.764 0.764 0.0268', 'O @ 0.0505 0.496 0.25', 'O @ 0.449 0.996 0.25', 'O @ 0.736 0.264 0.473', 'O @ 0.764 0.764 0.473', 'O @ 0.236 0.236 0.527', 'O @ 0.264 0.736 0.527', 'O @ 0.551 0.00401 0.75', 'O @ 0.949 0.504 0.75', 'O @ 0.236 0.236 0.973', 'O @ 0.264 0.736 0.973'], 'band_gap': 0.0, 'delta_e': -2.91834262446963, 'stability': 0.0, 'fit': 'standard', 'calculation_label': 'static'}, {'name': 'MnMoO4', 'entry_id': 3166, 'calculation_id': 1335830, 'icsd_id': 15615, 'formationenergy_id': 4854684, 'duplicate_entry_id': 3166, 'composition': 'Mn1 Mo1 O4', 'composition_generic': 'ABC4', 'prototype': 'CoMoO4', 'spacegroup': 'C2/m', 'volume': 341.346, 'ntypes': 3, 'natoms': 24, 'unit_cell': [[-5.240393, -4.748491, 0.010777], [5.240393, -4.748491, -0.010777], [-2.018796, 0.0, 6.862908]], 'sites': ['Mn @ 0.205 0.795 0.14', 'Mn @ 0.181 0.181 0.5', 'Mn @ 0.819 0.819 0.5', 'Mn @ 0.795 0.205 0.86', 'Mo @ 0.251 0.251 0', 'Mo @ 0.749 0.749 0', 'Mo @ 0.73 0.27 0.406', 'Mo @ 0.27 0.73 0.594', 'O @ 0.215 0.495 0.111', 'O @ 0.505 0.785 0.111', 'O @ 0.801 0.199 0.149', 'O @ 0.195 0.109 0.192', 'O @ 0.891 0.805 0.192', 'O @ 0.141 0.859 0.463', 'O @ 0.481 0.21 0.472', 'O @ 0.79 0.519 0.472', 'O @ 0.21 0.481 0.528', 'O @ 0.519 0.79 0.528', 'O @ 0.859 0.141 0.537', 'O @ 0.109 0.195 0.808', 'O @ 0.805 0.891 0.808', 'O @ 0.199 0.801 0.851', 'O @ 0.495 0.215 0.889', 'O @ 0.785 0.505 0.889'], 'band_gap': 2.242, 'delta_e': -2.28228188220448, 'stability': 0.0, 'fit': 'standard', 'calculation_label': 'static'}, {'name': 'Mn2In2O7', 'entry_id': 10177, 'calculation_id': 1346637, 'icsd_id': 56517, 'formationenergy_id': 4865970, 'duplicate_entry_id': 10177, 'composition': 'In2 Mn2 O7', 'composition_generic': 'A2B2C7', 'prototype': 'NaCa(Nb2O6)F', 'spacegroup': 'Fd-3m', 'volume': 234.936, 'ntypes': 3, 'natoms': 22, 'unit_cell': [[4.897488, 4.897488, 0.0], [-4.897488, 0.0, 4.897488], [4.897488, -4.897488, 0.0]], 'sites': ['In @ 0 0.5 0', 'In @ 0 0 0.5', 'In @ 0.5 0 0.5', 'In @ 0 0.5 0.5', 'Mn @ 0 0 0', 'Mn @ 0.5 0 0', 'Mn @ 0.5 0.5 0', 'Mn @ 0.5 0.5 0.5', 'O @ 0.418 0.75 0.082', 'O @ 0.832 0.164 0.082', 'O @ 0.832 0.75 0.082', 'O @ 0.582 0.25 0.332', 'O @ 0.582 0.664 0.332', 'O @ 0.168 0.25 0.332', 'O @ 0.125 0.75 0.375', 'O @ 0.875 0.25 0.625', 'O @ 0.832 0.75 0.668', 'O @ 0.418 0.336 0.668', 'O @ 0.418 0.75 0.668', 'O @ 0.168 0.25 0.918', 'O @ 0.582 0.25 0.918', 'O @ 0.168 0.836 0.918'], 'band_gap': 0.0, 'delta_e': -1.90341156443068, 'stability': 0.0, 'fit': 'standard', 'calculation_label': 'static'}, {'name': 'Fe2S3O12', 'entry_id': 4032, 'calculation_id': 1376576, 'icsd_id': 21018, 'formationenergy_id': 4895256, 'duplicate_entry_id': 4032, 'composition': 'Fe2 O12 S3', 'composition_generic': 'A2B3C12', 'prototype': 'Al2(SO4)3', 'spacegroup': 'R-3', 'volume': 420.7, 'ntypes': 3, 'natoms': 34, 'unit_cell': [[4.068227, -7.046376, 0.0], [-8.136455, 0.0, 0.0], [4.068227, -2.348792, -7.337887]], 'sites': ['Fe @ 0.643 0.357 0.0721', 'Fe @ 0.85 0.15 0.449', 'Fe @ 0.15 0.85 0.551', 'Fe @ 0.357 0.643 0.928', 'O @ 0.106 0.695 0.0755', 'O @ 0.305 0.486 0.0755', 'O @ 0.514 0.894 0.0755', 'O @ 0.374 0.365 0.237', 'O @ 0.635 0.246 0.237', 'O @ 0.754 0.626 0.237', 'O @ 0.0388 0.331 0.297', 'O @ 0.669 0.00502 0.297', 'O @ 0.995 0.961 0.297', 'O @ 0.29 0.657 0.395', 'O @ 0.343 0.0274 0.395', 'O @ 0.973 0.71 0.395', 'O @ 0.0274 0.29 0.605', 'O @ 0.657 0.973 0.605', 'O @ 0.71 0.343 0.605', 'O @ 0.00502 0.0388 0.703', 'O @ 0.331 0.995 0.703', 'O @ 0.961 0.669 0.703', 'O @ 0.246 0.374 0.763', 'O @ 0.365 0.754 0.763', 'O @ 0.626 0.635 0.763', 'O @ 0.486 0.106 0.925', 'O @ 0.695 0.514 0.925', 'O @ 0.894 0.305 0.925', 'S @ 0.251 0.461 0.252', 'S @ 0.539 0.0424 0.252', 'S @ 0.958 0.749 0.252', 'S @ 0.0424 0.251 0.748', 'S @ 0.461 0.958 0.748', 'S @ 0.749 0.539 0.748'], 'band_gap': 2.287, 'delta_e': -1.72365641643609, 'stability': 0.0, 'fit': 'standard', 'calculation_label': 'static'}, {'name': 'LaMnAsO', 'entry_id': 1027098, 'calculation_id': 2066866, 'icsd_id': None, 'formationenergy_id': 5365623, 'duplicate_entry_id': 1026200, 'composition': 'As1 La1 Mn1 O1', 'composition_generic': 'ABCD', 'prototype': None, 'spacegroup': 'P4/nmm', 'volume': 159.445, 'ntypes': 4, 'natoms': 8, 'unit_cell': [[4.181975, 0.0, 0.0], [0.0, 4.181975, 0.0], [0.0, 0.0, 9.116932]], 'sites': ['As @ 0.75 0.75 0.321', 'As @ 0.25 0.25 0.679', 'La @ 0.25 0.25 0.129', 'La @ 0.75 0.75 0.871', 'Mn @ 0.75 0.25 0.5', 'Mn @ 0.25 0.75 0.5', 'O @ 0.75 0.25 0', 'O @ 0.25 0.75 0'], 'band_gap': 0.0, 'delta_e': -2.00863097452265, 'stability': 0.0, 'fit': 'standard', 'calculation_label': 'static'}, {'name': 'PuMnAsO', 'entry_id': 1029376, 'calculation_id': 2082385, 'icsd_id': None, 'formationenergy_id': 5370657, 'duplicate_entry_id': 1029376, 'composition': 'As1 Mn1 O1 Pu1', 'composition_generic': 'ABCD', 'prototype': None, 'spacegroup': 'P4/nmm', 'volume': 155.63, 'ntypes': 4, 'natoms': 8, 'unit_cell': [[4.173777, 0.0, 0.0], [0.0, 4.173777, 0.0], [0.0, 0.0, 8.933782]], 'sites': ['As @ 0.75 0.75 0.318', 'As @ 0.25 0.25 0.682', 'Mn @ 0.75 0.25 0.5', 'Mn @ 0.25 0.75 0.5', 'O @ 0.75 0.25 0', 'O @ 0.25 0.75 0', 'Pu @ 0.25 0.25 0.121', 'Pu @ 0.75 0.75 0.879'], 'band_gap': 0.0, 'delta_e': -1.91990560825848, 'stability': 0.0, 'fit': 'standard', 'calculation_label': 'static'}, {'name': 'Ba4NaMn2O9', 'entry_id': 95378, 'calculation_id': 2344283, 'icsd_id': 151938, 'formationenergy_id': 5454703, 'duplicate_entry_id': 95378, 'composition': 'Ba4 Mn2 Na1 O9', 'composition_generic': 'AB2C4D9', 'prototype': 'Sr4Mn2CoO9', 'spacegroup': 'P321', 'volume': 720.589, 'ntypes': 4, 'natoms': 48, 'unit_cell': [[10.02072, -5e-06, 3.8e-05], [-5.010364, 8.678205, 0.0], [3.1e-05, 1.8e-05, 8.286268]], 'sites': ['Ba @ 0.329 0 0', 'Ba @ 0 0.329 0', 'Ba @ 0.671 0.671 0', 'Ba @ 0.0222 0.688 0.247', 'Ba @ 0.665 0.978 0.247', 'Ba @ 0.312 0.335 0.247', 'Ba @ 0.355 0 0.5', 'Ba @ 0.645 0.645 0.5', 'Ba @ 0 0.355 0.5', 'Ba @ 0.335 0.312 0.753', 'Ba @ 0.688 0.0222 0.753', 'Ba @ 0.978 0.665 0.753', 'Mn @ 0.333 0.667 0.084', 'Mn @ 0 0 0.161', 'Mn @ 0.333 0.667 0.405', 'Mn @ 0.667 0.333 0.595', 'Mn @ 0 0 0.839', 'Mn @ 0.667 0.333 0.916', 'Na @ 0.667 0.333 0.256', 'Na @ 0 0 0.5', 'Na @ 0.333 0.667 0.744', 'O @ 0.854 0 0', 'O @ 0.146 0.146 0', 'O @ 0 0.854 0', 'O @ 0.821 0.491 0.0394', 'O @ 0.509 0.329 0.0394', 'O @ 0.671 0.179 0.0394', 'O @ 0.345 0.821 0.245', 'O @ 0.477 0.655 0.245', 'O @ 0.179 0.523 0.245', 'O @ 0.99 0.155 0.282', 'O @ 0.165 0.00981 0.282', 'O @ 0.845 0.835 0.282', 'O @ 0.502 0.321 0.471', 'O @ 0.679 0.182 0.471', 'O @ 0.818 0.498 0.471', 'O @ 0.182 0.679 0.529', 'O @ 0.321 0.502 0.529', 'O @ 0.498 0.818 0.529', 'O @ 0.155 0.99 0.718', 'O @ 0.00981 0.165 0.718', 'O @ 0.835 0.845 0.718', 'O @ 0.655 0.477 0.755', 'O @ 0.821 0.345 0.755', 'O @ 0.523 0.179 0.755', 'O @ 0.491 0.821 0.961', 'O @ 0.329 0.509 0.961', 'O @ 0.179 0.671 0.961'], 'band_gap': 0.0, 'delta_e': -2.4925378402925, 'stability': 0.0, 'fit': 'standard', 'calculation_label': 'static'}, {'name': 'Mn2SO', 'entry_id': 1270415, 'calculation_id': 3088864, 'icsd_id': None, 'formationenergy_id': 5619851, 'duplicate_entry_id': 1270415, 'composition': 'Mn2 O1 S1', 'composition_generic': 'ABC2', 'prototype': None, 'spacegroup': 'Cmc21', 'volume': 133.334, 'ntypes': 3, 'natoms': 8, 'unit_cell': [[6.588306, -1.759129, 0.0], [6.588306, 1.759129, 0.0], [0.0, 0.0, 5.752277]], 'sites': ['Mn @ 0.938 0.938 0.385', 'Mn @ 0.67 0.67 0.461', 'Mn @ 0.0618 0.0618 0.885', 'Mn @ 0.33 0.33 0.961', 'O @ 0.922 0.922 0.0278', 'O @ 0.0784 0.0784 0.528', 'S @ 0.679 0.679 0.0185', 'S @ 0.321 0.321 0.519'], 'band_gap': 0.637, 'delta_e': -1.53091757732896, 'stability': 0.0, 'fit': 'standard', 'calculation_label': 'static'}, {'name': 'CsFeGeO4', 'entry_id': 1277708, 'calculation_id': 3125433, 'icsd_id': None, 'formationenergy_id': 5629246, 'duplicate_entry_id': 1277708, 'composition': 'Cs1 Fe1 Ge1 O4', 'composition_generic': 'ABCD4', 'prototype': None, 'spacegroup': 'Pna21', 'volume': 491.721, 'ntypes': 4, 'natoms': 28, 'unit_cell': [[5.658466, 0.0, 0.0], [0.0, 8.973796, 0.0], [0.0, 0.0, 9.683755]], 'sites': ['Cs @ 0.498 0.5 0.221', 'Cs @ 0.498 0.000423 0.279', 'Cs @ 0.998 1 0.721', 'Cs @ 0.998 0.5 0.779', 'Fe @ 0.98 0.805 0.0823', 'Fe @ 0.98 0.305 0.418', 'Fe @ 0.48 0.695 0.582', 'Fe @ 0.48 0.195 0.918', 'Ge @ 0.981 0.203 0.0781', 'Ge @ 0.981 0.703 0.422', 'Ge @ 0.481 0.297 0.578', 'Ge @ 0.481 0.797 0.922', 'O @ 0.262 0.279 0.0441', 'O @ 0.279 0.725 0.0447', 'O @ 1 0.00858 0.0672', 'O @ 0.873 0.253 0.242', 'O @ 0.873 0.753 0.258', 'O @ 1 0.509 0.433', 'O @ 0.279 0.225 0.455', 'O @ 0.262 0.779 0.456', 'O @ 0.762 0.221 0.544', 'O @ 0.779 0.775 0.545', 'O @ 0.5 0.491 0.567', 'O @ 0.373 0.247 0.742', 'O @ 0.373 0.747 0.758', 'O @ 0.5 0.991 0.933', 'O @ 0.779 0.275 0.955', 'O @ 0.762 0.721 0.956'], 'band_gap': 3.078, 'delta_e': -1.92194370384704, 'stability': 0.0, 'fit': 'standard', 'calculation_label': 'static'}, {'name': 'AcMnAsO', 'entry_id': 1080245, 'calculation_id': 3284630, 'icsd_id': None, 'formationenergy_id': 5696854, 'duplicate_entry_id': 1029347, 'composition': 'Ac1 As1 Mn1 O1', 'composition_generic': 'ABCD', 'prototype': None, 'spacegroup': 'P4/nmm', 'volume': 171.469, 'ntypes': 4, 'natoms': 8, 'unit_cell': [[4.278625297, 0.0, 0.0], [0.0, 4.278625297, 0.0], [0.0, 0.0, 9.366475731]], 'sites': ['Ac @ 0 0.5 0.134', 'Ac @ 0.5 0 0.866', 'As @ 0.5 0 0.33', 'As @ 0 0.5 0.67', 'Mn @ 0 0 0.5', 'Mn @ 0.5 0.5 0.5', 'O @ 0 0 0', 'O @ 0.5 0.5 0'], 'band_gap': 0.0, 'delta_e': -1.99110068514766, 'stability': 0.0, 'fit': 'standard', 'calculation_label': 'static'}, {'name': 'Mn4OF6', 'entry_id': 1345389, 'calculation_id': 3386289, 'icsd_id': None, 'formationenergy_id': 5732729, 'duplicate_entry_id': 1345389, 'composition': 'F6 Mn4 O1', 'composition_generic': 'AB4C6', 'prototype': None, 'spacegroup': 'P42/nmc', 'volume': 259.592, 'ntypes': 3, 'natoms': 22, 'unit_cell': [[5.121407, 0.0, 0.0], [0.0, 7.119521, 0.0], [0.0, 0.0, 7.119521]], 'sites': ['F @ 0.25 0.292 0.0415', 'F @ 0.25 0.708 0.0415', 'F @ 0.326 0 0.25', 'F @ 0.826 0 0.25', 'F @ 0.25 0.292 0.458', 'F @ 0.25 0.708 0.458', 'F @ 0.75 0.208 0.542', 'F @ 0.75 0.792 0.542', 'F @ 0.174 0.5 0.75', 'F @ 0.674 0.5 0.75', 'F @ 0.75 0.208 0.958', 'F @ 0.75 0.792 0.958', 'Mn @ 0.0548 0 0.00173', 'Mn @ 0.555 0.248 0.25', 'Mn @ 0.555 0.752 0.25', 'Mn @ 0.0548 0 0.498', 'Mn @ 0.945 0.5 0.502', 'Mn @ 0.445 0.252 0.75', 'Mn @ 0.445 0.748 0.75', 'Mn @ 0.945 0.5 0.998', 'O @ 0.75 0.5 0.25', 'O @ 0.25 0 0.75'], 'band_gap': 2.127, 'delta_e': -2.87608375768299, 'stability': 0.0, 'fit': 'standard', 'calculation_label': 'static'}, {'name': 'Fe2Cl2O', 'entry_id': 1371472, 'calculation_id': 3564748, 'icsd_id': None, 'formationenergy_id': 5797607, 'duplicate_entry_id': 1371472, 'composition': 'Cl2 Fe2 O1', 'composition_generic': 'AB2C2', 'prototype': None, 'spacegroup': 'Fddd', 'volume': 173.842, 'ntypes': 3, 'natoms': 10, 'unit_cell': [[0.0, 5.103139478, 5.45987203], [3.119643485, 0.0, 5.45987203], [3.119643485, 5.103139478, 0.0]], 'sites': ['Cl @ 0.318 0.682 0.318', 'Cl @ 0.568 0.932 0.568', 'Cl @ 0.682 0.318 0.682', 'Cl @ 0.932 0.568 0.932', 'Fe @ 0.125 0.125 0.125', 'Fe @ 0.125 0.625 0.125', 'Fe @ 0.625 0.125 0.125', 'Fe @ 0.125 0.125 0.625', 'O @ 0 0 0', 'O @ 0.25 0.25 0.25'], 'band_gap': 2.22, 'delta_e': -1.3834015787891, 'stability': 0.0, 'fit': 'standard', 'calculation_label': 'static'}, {'name': 'Mn2Br2O', 'entry_id': 1373981, 'calculation_id': 3577592, 'icsd_id': None, 'formationenergy_id': 5800391, 'duplicate_entry_id': 1373981, 'composition': 'Br2 Mn2 O1', 'composition_generic': 'AB2C2', 'prototype': None, 'spacegroup': 'Fddd', 'volume': 207.035, 'ntypes': 3, 'natoms': 10, 'unit_cell': [[0.0, 5.317695381, 5.647865147], [3.446712042, 0.0, 5.647865147], [3.446712042, 5.317695381, 0.0]], 'sites': ['Br @ 0.0742 0.426 0.0742', 'Br @ 0.176 0.824 0.176', 'Br @ 0.426 0.0742 0.426', 'Br @ 0.824 0.176 0.824', 'Mn @ 0.625 0.625 0.125', 'Mn @ 0.625 0.125 0.625', 'Mn @ 0.125 0.625 0.625', 'Mn @ 0.625 0.625 0.625', 'O @ 0.5 0.5 0.5', 'O @ 0.75 0.75 0.75'], 'band_gap': 1.65, 'delta_e': -1.55993745502683, 'stability': 0.0, 'fit': 'standard', 'calculation_label': 'static'}, {'name': 'Fe2Br2O', 'entry_id': 1376218, 'calculation_id': 3588621, 'icsd_id': None, 'formationenergy_id': 5801555, 'duplicate_entry_id': 1376218, 'composition': 'Br2 Fe2 O1', 'composition_generic': 'AB2C2', 'prototype': None, 'spacegroup': 'Fddd', 'volume': 192.596, 'ntypes': 3, 'natoms': 10, 'unit_cell': [[0.0, 5.177552403, 5.54150952], [3.356322492, 0.0, 5.54150952], [3.356322492, 5.177552403, 0.0]], 'sites': ['Br @ 0.0731 0.427 0.0731', 'Br @ 0.177 0.823 0.177', 'Br @ 0.427 0.0731 0.427', 'Br @ 0.823 0.177 0.823', 'Fe @ 0.625 0.625 0.125', 'Fe @ 0.625 0.125 0.625', 'Fe @ 0.125 0.625 0.625', 'Fe @ 0.625 0.625 0.625', 'O @ 0.5 0.5 0.5', 'O @ 0.75 0.75 0.75'], 'band_gap': 1.905, 'delta_e': -1.16556261150778, 'stability': 0.0, 'fit': 'standard', 'calculation_label': 'static'}, {'name': 'YbMnC2O6', 'entry_id': 1377867, 'calculation_id': 3590298, 'icsd_id': None, 'formationenergy_id': 5802083, 'duplicate_entry_id': 1377867, 'composition': 'C2 Mn1 O6 Yb1', 'composition_generic': 'ABC2D6', 'prototype': None, 'spacegroup': 'R-3', 'volume': 109.531, 'ntypes': 4, 'natoms': 10, 'unit_cell': [[2.428934425, 1.402345944, 5.359368057], [-2.428934425, 1.402345944, 5.359368057], [0.0, -2.804691888, 5.359368057]], 'sites': ['C @ 0.246 0.246 0.246', 'C @ 0.754 0.754 0.754', 'Mn @ 0.5 0.5 0.5', 'O @ 0.737 0.494 0.0268', 'O @ 0.506 0.973 0.263', 'O @ 0.0268 0.737 0.494', 'O @ 0.973 0.263 0.506', 'O @ 0.494 0.0268 0.737', 'O @ 0.263 0.506 0.973', 'Yb @ 0 0 0'], 'band_gap': 3.946, 'delta_e': -2.29794155324844, 'stability': 0.0, 'fit': 'standard', 'calculation_label': 'static'}, {'name': 'FeRe2O8', 'entry_id': 1370361, 'calculation_id': 3594222, 'icsd_id': None, 'formationenergy_id': 5803314, 'duplicate_entry_id': 1370361, 'composition': 'Fe1 O8 Re2', 'composition_generic': 'AB2C8', 'prototype': None, 'spacegroup': 'P-1', 'volume': 173.99, 'ntypes': 3, 'natoms': 11, 'unit_cell': [[5.698337234, 0.0, 0.0], [-2.841451798, 4.993524698, 0.0], [-0.007574733, -0.020612437, 6.114603814]], 'sites': ['Fe @ 0 0 0', 'O @ 0.169 0.342 0.192', 'O @ 0.668 0.838 0.2', 'O @ 0.165 0.839 0.204', 'O @ 0.668 0.339 0.423', 'O @ 0.332 0.661 0.577', 'O @ 0.835 0.161 0.796', 'O @ 0.332 0.162 0.8', 'O @ 0.831 0.658 0.808', 'Re @ 0.334 0.67 0.293', 'Re @ 0.666 0.33 0.707'], 'band_gap': 1.698, 'delta_e': -1.89219617140402, 'stability': 0.0, 'fit': 'standard', 'calculation_label': 'static'}, {'name': 'PrMnTeO6', 'entry_id': 1731847, 'calculation_id': 4490644, 'icsd_id': None, 'formationenergy_id': 6038750, 'duplicate_entry_id': 1731847, 'composition': 'Mn1 O6 Pr1 Te1', 'composition_generic': 'ABCD6', 'prototype': None, 'spacegroup': 'P-1', 'volume': 239.074, 'ntypes': 4, 'natoms': 18, 'unit_cell': [[5.169918, 0.0, 0.0], [-2.426145, 4.566535, 0.0], [-0.134772, -0.218563, 10.12654]], 'sites': ['Mn @ 0.669 0.33 0.25', 'Mn @ 0.331 0.67 0.75', 'O @ 0.0271 0.642 0.135', 'O @ 0.373 0.37 0.143', 'O @ 0.629 0.986 0.147', 'O @ 0.0134 0.37 0.352', 'O @ 0.629 0.625 0.357', 'O @ 0.357 0.972 0.365', 'O @ 0.643 0.0283 0.635', 'O @ 0.371 0.375 0.643', 'O @ 0.987 0.63 0.648', 'O @ 0.371 0.0143 0.853', 'O @ 0.627 0.63 0.857', 'O @ 0.973 0.358 0.865', 'Pr @ 0 0 0', 'Pr @ 0 0 0.5', 'Te @ 0.332 0.666 0.25', 'Te @ 0.668 0.334 0.75'], 'band_gap': 1.15, 'delta_e': -2.2442893898130802, 'stability': 0.0, 'fit': 'standard', 'calculation_label': 'static'}, {'name': 'MnCO3', 'entry_id': 1763728, 'calculation_id': 4597448, 'icsd_id': None, 'formationenergy_id': 6081355, 'duplicate_entry_id': 1763728, 'composition': 'C1 Mn1 O3', 'composition_generic': 'ABC3', 'prototype': None, 'spacegroup': 'P21/c', 'volume': 204.205, 'ntypes': 3, 'natoms': 20, 'unit_cell': [[4.795957, 0.0, 0.0], [0.0, 5.83826, 0.0], [0.0, -1.89768, 7.293025]], 'sites': ['C @ 0.749 0.749 0.00126', 'C @ 0.249 0.251 0.499', 'C @ 0.751 0.749 0.501', 'C @ 0.251 0.251 0.999', 'Mn @ 0.749 0.249 0.247', 'Mn @ 0.249 0.751 0.253', 'Mn @ 0.751 0.249 0.747', 'Mn @ 0.251 0.751 0.753', 'O @ 0.0193 0.75 0.00239', 'O @ 0.384 0.387 0.135', 'O @ 0.613 0.884 0.136', 'O @ 0.113 0.116 0.364', 'O @ 0.884 0.613 0.365', 'O @ 0.519 0.25 0.498', 'O @ 0.481 0.75 0.502', 'O @ 0.116 0.387 0.635', 'O @ 0.887 0.884 0.636', 'O @ 0.387 0.116 0.864', 'O @ 0.616 0.613 0.865', 'O @ 0.981 0.25 0.998'], 'band_gap': 3.45, 'delta_e': -1.9338704434696268, 'stability': 0.0, 'fit': 'standard', 'calculation_label': 'static'}, {'name': 'MnO', 'entry_id': 1441812, 'calculation_id': 4698503, 'icsd_id': None, 'formationenergy_id': 6116041, 'duplicate_entry_id': 1441812, 'composition': 'Mn1 O1', 'composition_generic': 'AB', 'prototype': None, 'spacegroup': 'Pbcm', 'volume': 89.2929, 'ntypes': 2, 'natoms': 8, 'unit_cell': [[4.460253209, 0.0, 0.0], [0.0, 4.481235328, 0.0], [0.0, 0.0, 4.467447493]], 'sites': ['Mn @ 0.25 0.5 0.25', 'Mn @ 0.75 1 0.25', 'Mn @ 0.25 0.000132 0.75', 'Mn @ 0.75 0.5 0.75', 'O @ 0.25 0 0.25', 'O @ 0.75 0.5 0.25', 'O @ 0.75 0 0.75', 'O @ 0.25 0.5 0.75'], 'band_gap': 0.45199999999999996, 'delta_e': -2.0382450990453123, 'stability': 0.0, 'fit': 'standard', 'calculation_label': 'static'}, {'name': 'YbMnTeO6', 'entry_id': 1810488, 'calculation_id': 4755421, 'icsd_id': None, 'formationenergy_id': 6131275, 'duplicate_entry_id': 1810488, 'composition': 'Mn1 O6 Te1 Yb1', 'composition_generic': 'ABCD6', 'prototype': None, 'spacegroup': 'C2/c', 'volume': 216.722, 'ntypes': 4, 'natoms': 18, 'unit_cell': [[2.534436477, -4.389481342, 0.0], [2.534436477, 4.389481342, 0.0], [-0.002424009, 0.0, 9.740416031]], 'sites': ['Mn @ 0.667 0.333 0.25', 'Mn @ 0.333 0.667 0.75', 'O @ 0.632 0.00313 0.14', 'O @ 0.997 0.629 0.14', 'O @ 0.371 0.368 0.14', 'O @ 0.632 0.629 0.36', 'O @ 0.371 0.00308 0.36', 'O @ 0.997 0.368 0.36', 'O @ 0.00313 0.632 0.64', 'O @ 0.629 0.997 0.64', 'O @ 0.368 0.371 0.64', 'O @ 0.629 0.632 0.86', 'O @ 0.00308 0.371 0.86', 'O @ 0.368 0.997 0.86', 'Te @ 0.333 0.667 0.25', 'Te @ 0.667 0.333 0.75', 'Yb @ 0 0 0', 'Yb @ 0 0 0.5'], 'band_gap': 2.266, 'delta_e': -2.1056222728686365, 'stability': 0.0, 'fit': 'standard', 'calculation_label': 'static'}, {'name': 'FeCO3', 'entry_id': 1809780, 'calculation_id': 4787762, 'icsd_id': None, 'formationenergy_id': 6138578, 'duplicate_entry_id': 1809780, 'composition': 'C1 Fe1 O3', 'composition_generic': 'ABC3', 'prototype': None, 'spacegroup': 'P21/c', 'volume': 193.68, 'ntypes': 3, 'natoms': 20, 'unit_cell': [[5.735868748, 0.0, 0.0], [0.0, 4.662037613, 0.0], [-1.884789871, 0.0, 7.242869463]], 'sites': ['C @ 0.25 0.752 0.000519', 'C @ 0.75 0.252 0.499', 'C @ 0.25 0.748 0.501', 'C @ 0.75 0.248 0.999', 'Fe @ 0.75 0.749 0.25', 'Fe @ 0.25 0.249 0.25', 'Fe @ 0.75 0.751 0.75', 'Fe @ 0.25 0.251 0.75', 'O @ 0.25 0.475 0.000204', 'O @ 0.885 0.108 0.136', 'O @ 0.386 0.891 0.138', 'O @ 0.614 0.391 0.362', 'O @ 0.115 0.608 0.364', 'O @ 0.75 0.975 0.5', 'O @ 0.25 0.0254 0.5', 'O @ 0.885 0.392 0.636', 'O @ 0.386 0.609 0.638', 'O @ 0.614 0.109 0.862', 'O @ 0.115 0.892 0.864', 'O @ 0.75 0.525 1'], 'band_gap': 3.131, 'delta_e': -1.7026692867101005, 'stability': 0.0, 'fit': 'standard', 'calculation_label': 'static'}, {'name': 'Fe3BO3F3', 'entry_id': 1820195, 'calculation_id': 4808776, 'icsd_id': None, 'formationenergy_id': 6144199, 'duplicate_entry_id': None, 'composition': 'B1 F3 Fe3 O3', 'composition_generic': 'AB3C3D3', 'prototype': None, 'spacegroup': 'P21/m', 'volume': 217.114, 'ntypes': 4, 'natoms': 20, 'unit_cell': [[8.852372562, 0.0, 0.0], [0.0, 3.198741411, 0.0], [-4.425789648, 0.0, 7.667406945]], 'sites': ['B @ 0.167 0.25 0.334', 'B @ 0.833 0.75 0.666', 'F @ 0.301 0.75 0.0826', 'F @ 0.782 0.75 0.199', 'F @ 0.583 0.25 0.282', 'F @ 0.417 0.75 0.718', 'F @ 0.218 0.25 0.801', 'F @ 0.699 0.25 0.917', 'Fe @ 0.867 0.75 0.0313', 'Fe @ 0.469 0.75 0.336', 'Fe @ 0.836 0.25 0.367', 'Fe @ 0.164 0.75 0.633', 'Fe @ 0.531 0.25 0.664', 'Fe @ 0.133 0.25 0.969', 'O @ 0.055 0.25 0.154', 'O @ 0.345 0.25 0.4', 'O @ 0.0996 0.25 0.445', 'O @ 0.9 0.75 0.555', 'O @ 0.655 0.75 0.6', 'O @ 0.945 0.75 0.846'], 'band_gap': 3.015, 'delta_e': -2.37367739202723, 'stability': 0.0, 'fit': 'standard', 'calculation_label': 'static'}, {'name': 'Np2MnCuAs2O2', 'entry_id': 1886757, 'calculation_id': 4922269, 'icsd_id': None, 'formationenergy_id': 6170513, 'duplicate_entry_id': 1886757, 'composition': 'As2 Cu1 Mn1 Np2 O2', 'composition_generic': 'ABC2D2E2', 'prototype': None, 'spacegroup': 'P-4m2', 'volume': 146.262, 'ntypes': 5, 'natoms': 8, 'unit_cell': [[4.040095323, 0.0, 0.0], [0.0, 4.040095323, 0.0], [0.0, 0.0, 8.960822032]], 'sites': ['As @ 0 0.5 0.174', 'As @ 0.5 0 0.826', 'Cu @ 0 0 0', 'Mn @ 0.5 0.5 0', 'Np @ 0.5 0 0.361', 'Np @ 0 0.5 0.639', 'O @ 0 0 0.5', 'O @ 0.5 0.5 0.5'], 'band_gap': 0.0, 'delta_e': -1.8890226840176698, 'stability': 0.0, 'fit': 'standard', 'calculation_label': 'static'}, {'name': 'Np2MnZnSb2O2', 'entry_id': 1886739, 'calculation_id': 4922504, 'icsd_id': None, 'formationenergy_id': 6170665, 'duplicate_entry_id': 1886739, 'composition': 'Mn1 Np2 O2 Sb2 Zn1', 'composition_generic': 'ABC2D2E2', 'prototype': None, 'spacegroup': 'P-4m2', 'volume': 169.958, 'ntypes': 5, 'natoms': 8, 'unit_cell': [[4.202411223, 0.0, 0.0], [0.0, 4.202411223, 0.0], [0.0, 0.0, 9.623739179]], 'sites': ['Mn @ 0 0 0', 'Np @ 0.5 0 0.379', 'Np @ 0 0.5 0.621', 'O @ 0 0 0.5', 'O @ 0.5 0.5 0.5', 'Sb @ 0 0.5 0.188', 'Sb @ 0.5 0 0.812', 'Zn @ 0.5 0.5 0'], 'band_gap': 0.0, 'delta_e': -1.762995498806795, 'stability': 0.0, 'fit': 'standard', 'calculation_label': 'static'}, {'name': 'Fe2OF3', 'entry_id': 1895597, 'calculation_id': 4968472, 'icsd_id': None, 'formationenergy_id': 6182272, 'duplicate_entry_id': 1895597, 'composition': 'F3 Fe2 O1', 'composition_generic': 'AB2C3', 'prototype': None, 'spacegroup': 'Pm', 'volume': 66.3375, 'ntypes': 3, 'natoms': 6, 'unit_cell': [[4.544607058, 0.0, 0.0], [0.0, 3.064853372, 0.0], [-0.123826043, 0.0, 4.762696705]], 'sites': ['F @ 0.228 0 0.17', 'F @ 0.753 0.5 0.327', 'F @ 0.263 0.5 0.68', 'Fe @ 0.509 0 0.507', 'Fe @ 0.972 0.5 0.977', 'O @ 0.775 0 0.839'], 'band_gap': 1.0790000000000002, 'delta_e': -2.345125540016758, 'stability': 0.0, 'fit': 'standard', 'calculation_label': 'static'}, {'name': 'PaFeO4', 'entry_id': 1992792, 'calculation_id': 5021523, 'icsd_id': None, 'formationenergy_id': 6198191, 'duplicate_entry_id': 1992792, 'composition': 'Fe1 O4 Pa1', 'composition_generic': 'ABC4', 'prototype': None, 'spacegroup': 'Pnc2', 'volume': 143.706, 'ntypes': 3, 'natoms': 12, 'unit_cell': [[5.023275176, 0.0, 0.0], [0.0, 5.3314796, 0.0], [0.0, 0.0, 5.365852548]], 'sites': ['Fe @ 0 0.5 0.251', 'Fe @ 0 0 0.751', 'O @ 0.746 0.309 0.0619', 'O @ 0.254 0.691 0.0619', 'O @ 0.256 0.309 0.438', 'O @ 0.744 0.691 0.438', 'O @ 0.746 0.191 0.562', 'O @ 0.254 0.809 0.562', 'O @ 0.256 0.191 0.938', 'O @ 0.744 0.809 0.938', 'Pa @ 0.5 0 0.25', 'Pa @ 0.5 0.5 0.75'], 'band_gap': 2.042, 'delta_e': -2.5939131661548758, 'stability': 0.0, 'fit': 'standard', 'calculation_label': 'static'}, {'name': 'CsFe3Se2O6F6', 'entry_id': 2029247, 'calculation_id': 5173476, 'icsd_id': 6665, 'formationenergy_id': 6243034, 'duplicate_entry_id': 2029247, 'composition': 'Cs1 F6 Fe3 O6 Se2', 'composition_generic': 'AB2C3D6E6', 'prototype': None, 'spacegroup': 'P-3m1', 'volume': 262.039, 'ntypes': 5, 'natoms': 18, 'unit_cell': [[5.439750329, 0.0, 0.0], [-2.719875164, 4.710961975, 0.0], [0.0, 0.0, 10.225323618]], 'sites': ['Cs @ 0 0 0.5', 'F @ 0.167 0.334 0.109', 'F @ 0.167 0.833 0.109', 'F @ 0.666 0.833 0.109', 'F @ 0.334 0.167 0.891', 'F @ 0.833 0.167 0.891', 'F @ 0.833 0.666 0.891', 'Fe @ 0 0 0', 'Fe @ 0.333 0.667 0.232', 'Fe @ 0.667 0.333 0.768', 'O @ 0.507 0.0134 0.334', 'O @ 0.507 0.493 0.334', 'O @ 0.987 0.493 0.334', 'O @ 0.0134 0.507 0.666', 'O @ 0.493 0.507 0.666', 'O @ 0.493 0.987 0.666', 'Se @ 0.667 0.333 0.251', 'Se @ 0.333 0.667 0.749'], 'band_gap': 2.095, 'delta_e': -2.0464119475167712, 'stability': 0.0, 'fit': 'standard', 'calculation_label': 'static'}, {'name': 'MnH2Cl2O', 'entry_id': 2047751, 'calculation_id': 5178106, 'icsd_id': 237381, 'formationenergy_id': 6244395, 'duplicate_entry_id': None, 'composition': 'Cl2 H2 Mn1 O1', 'composition_generic': 'ABC2D2', 'prototype': 'BaCl2(H2O)', 'spacegroup': 'Pnma', 'volume': 379.391, 'ntypes': 4, 'natoms': 24, 'unit_cell': [[8.986447116, 0.0, 0.0], [0.0, 3.678288503, 0.0], [0.0, 0.0, 11.477662204]], 'sites': ['Cl @ 0.813 0.75 0.095', 'Cl @ 0.464 0.25 0.127', 'Cl @ 0.964 0.25 0.373', 'Cl @ 0.313 0.75 0.405', 'Cl @ 0.687 0.25 0.595', 'Cl @ 0.0356 0.75 0.627', 'Cl @ 0.536 0.75 0.873', 'Cl @ 0.187 0.25 0.905', 'H @ 0.0517 0.75 0.148', 'H @ 0.188 0.75 0.238', 'H @ 0.688 0.75 0.262', 'H @ 0.552 0.75 0.352', 'H @ 0.448 0.25 0.648', 'H @ 0.312 0.25 0.738', 'H @ 0.812 0.25 0.762', 'H @ 0.948 0.25 0.852', 'Mn @ 0.317 0.75 0.0178', 'Mn @ 0.817 0.75 0.482', 'Mn @ 0.183 0.25 0.518', 'Mn @ 0.683 0.25 0.982', 'O @ 0.161 0.75 0.155', 'O @ 0.661 0.75 0.345', 'O @ 0.339 0.25 0.655', 'O @ 0.839 0.25 0.845'], 'band_gap': 4.024, 'delta_e': -1.4583914614495364, 'stability': 0.0, 'fit': 'standard', 'calculation_label': 'static'}], 'meta': {'query': {'representation': 'http://oqmd.org/oqmdapi/formationenergy?filter=element_set=(Fe-Mn),O%20AND%20stability%3C-0.1'}, 'api_version': '1.0', 'time_stamp': '2024-04-28 20:46:06', 'data_returned': 32, 'data_available': 32, 'comments': '', 'query_tree': '', 'more_data_available': False}, 'response_message': 'OK'}\n"
     ]
    },
    {
     "ename": "TypeError",
     "evalue": "QMPYRester.get_calculation_by_id() got an unexpected keyword argument 'fe_id'",
     "output_type": "error",
     "traceback": [
      "\u001B[0;31m---------------------------------------------------------------------------\u001B[0m",
      "\u001B[0;31mTypeError\u001B[0m                                 Traceback (most recent call last)",
      "Cell \u001B[0;32mIn[1], line 11\u001B[0m\n\u001B[1;32m      8\u001B[0m \u001B[38;5;28mprint\u001B[39m(list_of_data)\n\u001B[1;32m     10\u001B[0m \u001B[38;5;28;01mwith\u001B[39;00m qr\u001B[38;5;241m.\u001B[39mQMPYRester() \u001B[38;5;28;01mas\u001B[39;00m q:\n\u001B[0;32m---> 11\u001B[0m     phase \u001B[38;5;241m=\u001B[39m \u001B[43mq\u001B[49m\u001B[38;5;241;43m.\u001B[39;49m\u001B[43mget_calculation_by_id\u001B[49m\u001B[43m(\u001B[49m\u001B[43mfe_id\u001B[49m\u001B[43m \u001B[49m\u001B[38;5;241;43m=\u001B[39;49m\u001B[43m \u001B[49m\u001B[38;5;241;43m4061139\u001B[39;49m\u001B[43m,\u001B[49m\u001B[43m \u001B[49m\u001B[43mfield\u001B[49m\u001B[43m \u001B[49m\u001B[38;5;241;43m=\u001B[39;49m\u001B[43m \u001B[49m\u001B[38;5;124;43m'\u001B[39;49m\u001B[38;5;124;43m!sites\u001B[39;49m\u001B[38;5;124;43m'\u001B[39;49m\u001B[43m)\u001B[49m\n",
      "\u001B[0;31mTypeError\u001B[0m: QMPYRester.get_calculation_by_id() got an unexpected keyword argument 'fe_id'"
     ]
    }
   ],
   "source": [
    "import qmpy_rester as qr\n",
    "\n",
    "with qr.QMPYRester() as q:\n",
    "    kwargs = {'element_set': '(Fe-Mn),O',\n",
    "              'stability': '<-0.1',\n",
    "              'natom': '<10'}\n",
    "    list_of_data = q.get_oqmd_phases(**kwargs)\n",
    "    print(list_of_data)\n",
    "    \n"
   ],
   "metadata": {
    "collapsed": false,
    "ExecuteTime": {
     "end_time": "2024-04-29T01:46:16.429764Z",
     "start_time": "2024-04-29T01:45:17.092910Z"
    }
   },
   "id": "3051f69e9d4b49c3"
  },
  {
   "cell_type": "code",
   "execution_count": 4,
   "outputs": [],
   "source": [
    "    with qr.QMPYRester() as q:\n",
    "        phase = q.get_oqmd_phase_by_id(fe_id = 4061139, fields='!sites')"
   ],
   "metadata": {
    "collapsed": false,
    "ExecuteTime": {
     "end_time": "2024-04-29T01:48:24.679841Z",
     "start_time": "2024-04-29T01:48:23.496376Z"
    }
   },
   "id": "1f9333d91764c97c"
  },
  {
   "cell_type": "markdown",
   "source": [
    "optimade API Endpoints"
   ],
   "metadata": {
    "collapsed": false
   },
   "id": "6f625fa76b427888"
  },
  {
   "cell_type": "code",
   "execution_count": 6,
   "outputs": [
    {
     "name": "stdout",
     "output_type": "stream",
     "text": [
      "Your filters are:\n",
      "    filter=elements=(Fe-Mn),O AND nelements<3 AND _oqmd_stability<0\n"
     ]
    }
   ],
   "source": [
    "with qr.QMPYRester() as q:\n",
    "    kwargs = {'elements': '(Fe-Mn),O',\n",
    "              'nelements': '<3',\n",
    "              '_oqmd_stability': '<0',}\n",
    "    list_of_data = q.get_optimade_structures(**kwargs)"
   ],
   "metadata": {
    "collapsed": false,
    "ExecuteTime": {
     "end_time": "2024-04-29T02:10:13.866053Z",
     "start_time": "2024-04-29T02:10:10.746714Z"
    }
   },
   "id": "acf170740cd7f91d"
  },
  {
   "cell_type": "code",
   "execution_count": 7,
   "outputs": [],
   "source": [
    "with qr.QMPYRester() as q:\n",
    "    structure = q.get_optimade_structure_by_id(id=4061139, fields='!_oqmd_sites')"
   ],
   "metadata": {
    "collapsed": false,
    "ExecuteTime": {
     "end_time": "2024-04-29T02:11:03.554878Z",
     "start_time": "2024-04-29T02:11:02.796088Z"
    }
   },
   "id": "3e43deb4c36947dc"
  },
  {
   "cell_type": "code",
   "execution_count": null,
   "outputs": [],
   "source": [],
   "metadata": {
    "collapsed": false
   },
   "id": "cc160ddd7a8ab4a6"
  }
 ],
 "metadata": {
  "kernelspec": {
   "display_name": "Python 3",
   "language": "python",
   "name": "python3"
  },
  "language_info": {
   "codemirror_mode": {
    "name": "ipython",
    "version": 2
   },
   "file_extension": ".py",
   "mimetype": "text/x-python",
   "name": "python",
   "nbconvert_exporter": "python",
   "pygments_lexer": "ipython2",
   "version": "2.7.6"
  }
 },
 "nbformat": 4,
 "nbformat_minor": 5
}
