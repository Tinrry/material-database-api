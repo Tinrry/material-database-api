{
 "cells": [
  {
   "cell_type": "markdown",
   "source": [
    "# aflow duke university\n",
    "https://rosenbrockc.github.io/aflow/\n",
    "\n",
    "下载的example：\n",
    "https://aflowlib.duke.edu/AFLOWDATA/LIB2_WEB/AgAu/1/aflowlib.json\n"
   ],
   "metadata": {
    "collapsed": false
   },
   "id": "e1cfedb6ed7646bf"
  },
  {
   "cell_type": "code",
   "execution_count": 3,
   "outputs": [
    {
     "data": {
      "text/plain": "<Popen: returncode: None args: 'curl -o aflowlib-AgAl-1 https://aflowlib.duk...>"
     },
     "execution_count": 3,
     "metadata": {},
     "output_type": "execute_result"
    }
   ],
   "source": [
    "# 保存html文件，以https://aflowlib.duke.edu/AFLOWDATA/LIB2_WEB/AgAl/1/为例\n",
    "# 后续的文件格式肯定要调整，不处理数据了。\n",
    "import subprocess\n",
    "subprocess.Popen(\"curl -o aflowlib-AgAl-1 https://aflowlib.duke.edu/AFLOWDATA/LIB2_WEB/AgAl/1/\", shell=True)"
   ],
   "metadata": {
    "collapsed": false,
    "ExecuteTime": {
     "end_time": "2024-05-27T06:34:33.462694Z",
     "start_time": "2024-05-27T06:34:33.444989Z"
    }
   },
   "id": "be8a86194f9d1e59"
  },
  {
   "cell_type": "code",
   "execution_count": 20,
   "outputs": [],
   "source": [
    "# 以https://aflowlib.duke.edu/AFLOWDATA/LIB2_WEB/AgAl/目录为例，自动下载下面的1057个链接。\n",
    "from bs4 import BeautifulSoup\n",
    "def get_link(base_url, local_file):\n",
    "    \n",
    "    # base_url = 'https://aflowlib.duke.edu/AFLOWDATA/LIB2_WEB/AgAl/'\n",
    "    # 手动下载base_url, 将'aflowlib_entries'和'<br>'之间的内容保存到AgAl.html\n",
    "    with open(local_file, 'r') as html_file:\n",
    "        content = html_file.read()\n",
    "    soup = BeautifulSoup(content, 'html.parser')\n",
    "    \n",
    "    link_list = []\n",
    "    for link in soup.find_all('a'):\n",
    "        link_list.append(''.join([base_url, link.get('href')]))\n",
    "        # # debug\n",
    "        # if len(link_list) == 5:\n",
    "        #     break\n",
    "\n",
    "    link_size = len(link_list)\n",
    "    # save link_list\n",
    "    csv_file = f\"{local_file.split('.')[0]}-{str(link_size)}.csv\"\n",
    "    with open(csv_file, 'w') as link_file:\n",
    "        write_content = '\\n'.join(link_list)\n",
    "        link_file.write(write_content)"
   ],
   "metadata": {
    "collapsed": false,
    "ExecuteTime": {
     "end_time": "2024-05-27T07:47:29.510101Z",
     "start_time": "2024-05-27T07:47:29.506001Z"
    }
   },
   "id": "3b8daf451c90546a"
  },
  {
   "cell_type": "code",
   "execution_count": 21,
   "outputs": [],
   "source": [
    "base_url = 'https://aflowlib.duke.edu/AFLOWDATA/LIB2_WEB/'\n",
    "local_file = 'aflowlib-lib2.html'\n",
    "get_link(base_url, local_file)"
   ],
   "metadata": {
    "collapsed": false,
    "ExecuteTime": {
     "end_time": "2024-05-27T07:47:33.246893Z",
     "start_time": "2024-05-27T07:47:33.113160Z"
    }
   },
   "id": "d1a41631924c8daf"
  },
  {
   "cell_type": "code",
   "execution_count": null,
   "outputs": [],
   "source": [],
   "metadata": {
    "collapsed": false
   },
   "id": "74f6621b3cfe83ac"
  },
  {
   "cell_type": "markdown",
   "source": [],
   "metadata": {
    "collapsed": false
   },
   "id": "556153ef36fefb5a"
  }
 ],
 "metadata": {
  "kernelspec": {
   "display_name": "Python 3",
   "language": "python",
   "name": "python3"
  },
  "language_info": {
   "codemirror_mode": {
    "name": "ipython",
    "version": 2
   },
   "file_extension": ".py",
   "mimetype": "text/x-python",
   "name": "python",
   "nbconvert_exporter": "python",
   "pygments_lexer": "ipython2",
   "version": "2.7.6"
  }
 },
 "nbformat": 4,
 "nbformat_minor": 5
}
