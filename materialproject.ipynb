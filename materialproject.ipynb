{
 "cells": [
  {
   "cell_type": "markdown",
   "source": [
    "# API参考\n",
    "https://workshop.materialsproject.org/lessons/04_materials_api/MAPI%20Lesson%20%28filled%29/\n"
   ],
   "metadata": {
    "collapsed": false
   },
   "id": "aa978fc26908a317"
  },
  {
   "cell_type": "code",
   "execution_count": 5,
   "outputs": [
    {
     "data": {
      "text/plain": "Retrieving MaterialsDoc documents:   0%|          | 0/1 [00:00<?, ?it/s]",
      "application/vnd.jupyter.widget-view+json": {
       "version_major": 2,
       "version_minor": 0,
       "model_id": "4ff7068e556f4061838b57152f7770a3"
      }
     },
     "metadata": {},
     "output_type": "display_data"
    },
    {
     "name": "stdout",
     "output_type": "stream",
     "text": [
      "Full Formula (Si2)\n",
      "Reduced Formula: Si\n",
      "abc   :   3.849278   3.849279   3.849278\n",
      "angles:  60.000012  60.000003  60.000011\n",
      "pbc   :       True       True       True\n",
      "Sites (2)\n",
      "  #  SP        a      b      c    magmom\n",
      "---  ----  -----  -----  -----  --------\n",
      "  0  Si    0.875  0.875  0.875        -0\n",
      "  1  Si    0.125  0.125  0.125        -0\n"
     ]
    }
   ],
   "source": [
    "from mp_api.client import MPRester\n",
    "with MPRester(api_key=open('mp_api_key').read().strip()) as mpr:\n",
    "    structure = mpr.get_structure_by_material_id(\"mp-149\")\n",
    "    print(structure)"
   ],
   "metadata": {
    "collapsed": false,
    "ExecuteTime": {
     "start_time": "2024-04-28T08:56:44.774701Z"
    }
   },
   "id": "9c1a33b4163efaea"
  },
  {
   "cell_type": "code",
   "execution_count": 6,
   "outputs": [
    {
     "data": {
      "text/plain": "Retrieving MaterialsDoc documents:   0%|          | 0/70 [00:00<?, ?it/s]",
      "application/vnd.jupyter.widget-view+json": {
       "version_major": 2,
       "version_minor": 0,
       "model_id": "2d0be8cbd28a4717a53f7cf17355184a"
      }
     },
     "metadata": {},
     "output_type": "display_data"
    },
    {
     "name": "stdout",
     "output_type": "stream",
     "text": [
      "[MPID(mp-18951), MPID(mp-19017), MPID(mp-26041), MPID(mp-26559), MPID(mp-26611)]\n"
     ]
    }
   ],
   "source": [
    "with MPRester(api_key=open('mp_api_key').read().strip()) as mpr:\n",
    "    print(mpr.get_material_ids(\"LiFePO4\")[:5])"
   ],
   "metadata": {
    "collapsed": false,
    "ExecuteTime": {
     "end_time": "2024-04-28T09:03:31.330897Z",
     "start_time": "2024-04-28T09:03:23.397055Z"
    }
   },
   "id": "66a8343b24470ee0"
  },
  {
   "cell_type": "code",
   "execution_count": null,
   "outputs": [],
   "source": [],
   "metadata": {
    "collapsed": false
   },
   "id": "cb508466f0431f1e"
  }
 ],
 "metadata": {
  "kernelspec": {
   "display_name": "Python 3",
   "language": "python",
   "name": "python3"
  },
  "language_info": {
   "codemirror_mode": {
    "name": "ipython",
    "version": 2
   },
   "file_extension": ".py",
   "mimetype": "text/x-python",
   "name": "python",
   "nbconvert_exporter": "python",
   "pygments_lexer": "ipython2",
   "version": "2.7.6"
  }
 },
 "nbformat": 4,
 "nbformat_minor": 5
}
