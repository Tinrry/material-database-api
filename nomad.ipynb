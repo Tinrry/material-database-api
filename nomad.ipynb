{
 "cells": [
  {
   "cell_type": "markdown",
   "source": [
    "# reference\n",
    "https://sol-oasis.physik.hu-berlin.de/nomad-oasis/docs/apis/api.html\n",
    "swagger\n",
    "\n",
    "# nomad-lab.eu tutorial\n",
    "# https://nomad-lab.eu/prod/rae/docs/api_tutorial.html\n"
   ],
   "metadata": {
    "collapsed": false
   },
   "id": "d62a3505e3bf5ecf"
  },
  {
   "cell_type": "code",
   "execution_count": 2,
   "outputs": [],
   "source": [
    "from nomad.client.archive import ArchiveQuery\n",
    "\n",
    "required = {\n",
    "    'workflow': {\n",
    "        'calculation_result_ref': {\n",
    "            'energy': '*',\n",
    "            'system_ref': {\n",
    "                'chemical_composition_reduced': '*'\n",
    "            }\n",
    "        }\n",
    "    }\n",
    "}\n",
    "\n",
    "query = {\n",
    "    'results.method.simulation.program_name': 'VASP',\n",
    "    'results.material.elements': ['Ti']\n",
    "}\n",
    "\n",
    "query = ArchiveQuery(query=query, required=required, page_size=10, results_max=10000)"
   ],
   "metadata": {
    "collapsed": false,
    "ExecuteTime": {
     "end_time": "2024-04-29T07:04:27.314255Z",
     "start_time": "2024-04-29T07:04:27.003713Z"
    }
   },
   "id": "1ad52c74275b9dff"
  },
  {
   "cell_type": "code",
   "execution_count": 7,
   "outputs": [
    {
     "name": "stdout",
     "output_type": "stream",
     "text": [
      "Fetching remote uploads...\n",
      "3850 entries are qualified and added to the download list.\n"
     ]
    }
   ],
   "source": [
    "number_of_entries = query.fetch(10)"
   ],
   "metadata": {
    "collapsed": false,
    "ExecuteTime": {
     "end_time": "2024-04-29T07:19:17.450493Z",
     "start_time": "2024-04-29T07:19:15.994097Z"
    }
   },
   "id": "1a0abc7ee04fc9b4"
  },
  {
   "cell_type": "code",
   "execution_count": 10,
   "outputs": [
    {
     "name": "stdout",
     "output_type": "stream",
     "text": [
      "Downloading required data...\n"
     ]
    }
   ],
   "source": [
    "total_results = []\n",
    "while True:\n",
    "    result = query.download(1)\n",
    "    if len(result) == 0:\n",
    "        break\n",
    "    total_results.extend(result)\n",
    "    break"
   ],
   "metadata": {
    "collapsed": false,
    "ExecuteTime": {
     "end_time": "2024-04-29T07:25:25.315456Z",
     "start_time": "2024-04-29T07:25:23.548047Z"
    }
   },
   "id": "fbbb4aaa39a400ac"
  },
  {
   "cell_type": "code",
   "execution_count": 24,
   "outputs": [
    {
     "data": {
      "text/plain": "EntryArchive(run, workflow)"
     },
     "execution_count": 24,
     "metadata": {},
     "output_type": "execute_result"
    }
   ],
   "source": [
    "total_results[0]\n",
    "\n",
    "# how to use entryArchive\n",
    "# https://sol-oasis.physik.hu-berlin.de/nomad-oasis/docs/apis/api.html"
   ],
   "metadata": {
    "collapsed": false,
    "ExecuteTime": {
     "end_time": "2024-04-29T08:06:26.335429Z",
     "start_time": "2024-04-29T08:06:26.329192Z"
    }
   },
   "id": "7ebe9d422593d1cc"
  },
  {
   "cell_type": "code",
   "execution_count": 29,
   "outputs": [
    {
     "data": {
      "text/plain": "Calculation(system_ref, energy)"
     },
     "execution_count": 29,
     "metadata": {},
     "output_type": "execute_result"
    }
   ],
   "source": [
    "\n",
    "result = total_results[0].workflow[0].calculation_result_ref\n",
    "result"
   ],
   "metadata": {
    "collapsed": false,
    "ExecuteTime": {
     "end_time": "2024-04-29T08:12:27.447430Z",
     "start_time": "2024-04-29T08:12:27.443763Z"
    }
   },
   "id": "a49afcad5527064c"
  },
  {
   "cell_type": "code",
   "execution_count": 33,
   "outputs": [
    {
     "name": "stdout",
     "output_type": "stream",
     "text": [
      "CuSbTi\n",
      "-16.23623018 electron_volt\n"
     ]
    }
   ],
   "source": [
    "print(result.system_ref.chemical_composition_reduced) \n",
    "print(result.energy.total.value.to(units('eV')))"
   ],
   "metadata": {
    "collapsed": false,
    "ExecuteTime": {
     "end_time": "2024-04-29T08:14:29.461823Z",
     "start_time": "2024-04-29T08:14:29.456500Z"
    }
   },
   "id": "b63784a62a287f08"
  },
  {
   "cell_type": "code",
   "execution_count": null,
   "outputs": [],
   "source": [],
   "metadata": {
    "collapsed": false
   },
   "id": "833a55e347e75838"
  }
 ],
 "metadata": {
  "kernelspec": {
   "display_name": "Python 3",
   "language": "python",
   "name": "python3"
  },
  "language_info": {
   "codemirror_mode": {
    "name": "ipython",
    "version": 2
   },
   "file_extension": ".py",
   "mimetype": "text/x-python",
   "name": "python",
   "nbconvert_exporter": "python",
   "pygments_lexer": "ipython2",
   "version": "2.7.6"
  }
 },
 "nbformat": 4,
 "nbformat_minor": 5
}
